{
 "cells": [
  {
   "cell_type": "markdown",
   "metadata": {},
   "source": [
    "# Homework 6\n",
    "\n",
    "In this homework, you'll review some linear algebra, and practice using `sklearn` and `scipy.optimize` to solve several variations of linear models.  You'll also use Pandas and Scikit learn for a simple machine learning task on a UCI data set."
   ]
  },
  {
   "cell_type": "code",
   "execution_count": 1,
   "metadata": {},
   "outputs": [],
   "source": [
    "import numpy as np\n",
    "import matplotlib.pyplot as plt\n",
    "import scipy.linalg as la\n",
    "import pandas as pd\n",
    "import sklearn"
   ]
  },
  {
   "cell_type": "markdown",
   "metadata": {},
   "source": [
    "## Linear Models\n",
    "\n",
    "A standard problem in statistics to solve the multivariate linear regression problem.\n",
    "\\begin{equation}\n",
    "y = X * \\beta + \\epsilon\n",
    "\\end{equation}\n",
    "The above notation is standard in statistics, but we'll use Householder notation by replacing $\\beta$ with `b`\n",
    "```\n",
    "y = X * b + eps\n",
    "```\n",
    "`X` is known as the [design matrix](https://en.wikipedia.org/wiki/Design_matrix), and consists of `n` rows of observations, each of which has `p` features.  `y` is a vector of `n` responses.  `b` is an unknown vector of `p` coefficients which we would like to find.  `eps` (epsilon) is a vector of length `n` with random noise, typically i.i.d. normally distributed with variance `sig` (sigma).\n",
    "\n",
    "In numpy notation, we could express this as\n",
    "```python\n",
    "y[i] = np.dot(X[i], b) + sig * np.random.randn()\n",
    "```\n",
    "\n",
    "We want to determine `b`, so that when me make a new observation `X[n]` we can predict the response `y[n]`.  Our goal is to minimize the mean square error\n",
    "\n",
    "\\begin{equation}\n",
    "\\mathop{\\mathsf{minimize}}_b \\mathbb{E}((X[n]*b - y[n])^2)\n",
    "\\end{equation}\n",
    "\n",
    "The solution to this is the solution to the least squares problem\n",
    "\\begin{equation}\n",
    "\\mathop{\\mathsf{minimize}}_b \\frac{1}{n} \\|X*b - y\\|_2^2\n",
    "\\end{equation}\n",
    "\n",
    "Where $n$ is the number of rows in $X$.  We'll let the solution to the problem be denoted $\\hat{b}$, or `bhat`."
   ]
  },
  {
   "cell_type": "markdown",
   "metadata": {},
   "source": [
    "## Problem 0 - Linear Regression (30 points)\n",
    "\n",
    "There are a variety of ways to solve the above problem.  We'll assume that $n > p$, meaning there are more observations than features.\n",
    "\n",
    "### Generating Data\n",
    "\n",
    "Write a function `gen_lstsq(n, p, sig=0.1)` which will generate a linear least squares problem (return `X`, `y`, and `b` as described above).  `b` is the \"ground truth\" coefficients that we are looking for.  You can generate the matrix `X` using `np.random.randn`, and generate `b` using `np.random.randn` as well.\n"
   ]
  },
  {
   "cell_type": "code",
   "execution_count": 2,
   "metadata": {},
   "outputs": [],
   "source": [
    "# Generate a linear least squares problem, return X, y and b, where b is the \"ground truth\" coefficient\n",
    "def gen_lstsq(n, p, sig=0.1):\n",
    "    \"\"\"\n",
    "    Generate a linear least squares problem:\n",
    "    Size of X: n*p, n > p\n",
    "    return: X, y and b\n",
    "    \"\"\"\n",
    "    X = np.random.randn(n,p)\n",
    "    b = np.random.randn(p)\n",
    "    y = np.dot(X, b) + sig * np.random.randn(n)\n",
    "    return X, y, b"
   ]
  },
  {
   "cell_type": "markdown",
   "metadata": {},
   "source": [
    "### QR factorization\n",
    "\n",
    "If we form a QR factorization $X = QR$, we can find $\\hat{b} = R^{-1} Q^T y$.\n",
    "\n",
    "Write a function `solve_lstsq_qr(X, y)` which estimates `b` using the QR factorization as above."
   ]
  },
  {
   "cell_type": "code",
   "execution_count": 3,
   "metadata": {},
   "outputs": [],
   "source": [
    "# Use QR factorization to find b_hat\n",
    "def solve_lstsq_qr(X, y):\n",
    "    Q, R = la.qr(X, mode='economic')\n",
    "    b_hat = la.solve_triangular(R, Q.T @ y, lower=False)\n",
    "    return b_hat"
   ]
  },
  {
   "cell_type": "markdown",
   "metadata": {},
   "source": [
    "### Normal Equations\n",
    "\n",
    "Often, this is the way statistics textbooks solve the problem: $\\hat{b} = (X^T X)^{-1} X^T y$.  This is based on the normal equation $X^T X \\hat{b} = X^T y$.\n",
    "\n",
    "Write a function `solve_lstsq_normal(X, y)` which estimates `b` using the normal equations above.  You probably don't want to form the inverse - use an LU or Cholesky factorization instead."
   ]
  },
  {
   "cell_type": "code",
   "execution_count": 4,
   "metadata": {},
   "outputs": [],
   "source": [
    "# Use Normal Equation to solve. Here we use Cholesky Factorization\n",
    "def solve_lstsq_normal(X, y):\n",
    "    \"\"\"\n",
    "    Goal: solve (X.T @ X) @ b = X.T @ y\n",
    "    First step: perform Cholesky factorization on X.T @ X\n",
    "    Then solve m = L.T @ b such that L @ m = X.T @ X\n",
    "    Next solve b such that m = L.T @ b\n",
    "    \"\"\"\n",
    "    L = np.linalg.cholesky(X.T @ X)\n",
    "    m = la.solve_triangular(L, X.T @ y, lower=True)\n",
    "    b = la.solve_triangular(L.T, m, lower=False)\n",
    "    return b"
   ]
  },
  {
   "cell_type": "markdown",
   "metadata": {},
   "source": [
    "### Check Your Work\n",
    "\n",
    "Generate a few random problems to test that `solve_lstsq_qr` and `solve_lstsq_normal` give the same prediction $\\hat{b}$ (measure $\\|\\hat{b}_{qr} - \\hat{b}_{normal}\\|_2$ and check it is smaller than `1e-4`).  Use $n > p$.  Check against `solve_lstsq` in numpy or scipy as well."
   ]
  },
  {
   "cell_type": "code",
   "execution_count": 5,
   "metadata": {},
   "outputs": [
    {
     "name": "stdout",
     "output_type": "stream",
     "text": [
      "True\n",
      "True\n",
      "True\n"
     ]
    }
   ],
   "source": [
    "# First we generate the problem\n",
    "X, y, b = gen_lstsq(500, 300, sig=0.1)\n",
    "# Then we solve and compare\n",
    "b_hat_QR = solve_lstsq_qr(X, y)\n",
    "b_hat_normal = solve_lstsq_normal(X, y)\n",
    "print(la.norm(b_hat_QR - b_hat_normal)<1e-4)\n",
    "b_lstsq = np.linalg.lstsq(X, y, rcond=None)[0]\n",
    "print(la.norm(b_lstsq-b_hat_QR)<1e-4)\n",
    "print(la.norm(b_lstsq-b_hat_normal)<1e-4)"
   ]
  },
  {
   "cell_type": "markdown",
   "metadata": {},
   "source": [
    "### Estimate the Mean Squared Error\n",
    "\n",
    "Write a function `mse` which estimates the mean squared error (MSE) $\\mathbb{E}[\\|X * \\hat{b} - y\\|_2^2]$.\n",
    "\n",
    "The function should have the call signature `mse(b, bhat, N=100, sig=0.1)`  You can generate `X` to be `N x p` using `np.random.randn`, and set `y = X * b + sig * np.random.randn(p)` (use the same value of `sig` that you use when generating the data).  You can then estimate the MSE by computing $\\frac{1}{N}\\|X * \\hat{b} - y\\|_2^2$\n",
    "\n",
    "Create a plot of the MSE vs the noise parameter `sig` (use the same value of `sig` when generating data and computing the MSE).  Put `sig` on a logartihmic axis ranging from `1e-4` to `10`.  Use `n=100`, `p=50` when generating data, and `N=100` when computing the MSE.  Put your plot on log-log axes.  Give it a title and axis labels."
   ]
  },
  {
   "cell_type": "code",
   "execution_count": 25,
   "metadata": {},
   "outputs": [
    {
     "data": {
      "image/png": "[encoded data removed]",
      "text/plain": [
       "<Figure size 432x288 with 1 Axes>"
      ]
     },
     "metadata": {
      "needs_background": "light"
     },
     "output_type": "display_data"
    }
   ],
   "source": [
    "def mse(b, bhat, N = 100, p = 50, sig = 0.1):\n",
    "    X = np.random.randn(N,p)\n",
    "    y = np.dot(X, b) + sig * np.random.randn()\n",
    "    MSE = (1/N) * (la.norm(X @ bhat - y)**2)\n",
    "    return MSE\n",
    "    \n",
    "X, y, b = gen_lstsq(100, 50, sig=0.1)\n",
    "bhat = np.linalg.lstsq(X, y, rcond=None)[0]\n",
    "Sigs = [10**k for k in range(-4,2)]\n",
    "MSEs = []\n",
    "for n in Sigs:\n",
    "    MSEs.append(mse(b, bhat, N=100, sig=n))\n",
    "plt.loglog(Sigs, MSEs)\n",
    "plt.xlabel('Noise Parameter Sig')\n",
    "plt.ylabel('MSE')\n",
    "plt.title('MSE vs. Sig')\n",
    "plt.show()"
   ]
  },
  {
   "cell_type": "markdown",
   "metadata": {},
   "source": [
    "### Discussion 1\n",
    "\n",
    "Which of `solve_lstsq_qr` and `solve_lstsq_normal` is faster?  Give a justification for your answer (e.g. in terms of what you know about time to compute matrix multiplication and factorizations)."
   ]
  },
  {
   "cell_type": "code",
   "execution_count": 26,
   "metadata": {},
   "outputs": [
    {
     "name": "stdout",
     "output_type": "stream",
     "text": [
      "Time of computing using solve_lstsq_qr is: 0.014639139175415039 secs.\n",
      "Time of computing using solve_lstsq_normal is: 0.0047838687896728516 secs.\n"
     ]
    }
   ],
   "source": [
    "X, y, b = gen_lstsq(500, 300, sig=0.1)\n",
    "from time import time\n",
    "start = time()\n",
    "solve_lstsq_qr(X, y)\n",
    "end = time()\n",
    "print(\"Time of computing using solve_lstsq_qr is: \" + str(end-start) + \" secs.\")\n",
    "start = time()\n",
    "solve_lstsq_normal(X, y)\n",
    "end = time()\n",
    "print(\"Time of computing using solve_lstsq_normal is: \" + str(end-start) + \" secs.\")"
   ]
  },
  {
   "cell_type": "markdown",
   "metadata": {},
   "source": [
    "---\n",
    "\n",
    "Discussion: We note that solve_lstsq_normal is faster, since Cholesky has cost of approximately n ** 3 / 3 flops, while QR costs approximately 2 * (n ** 3) / 3 flops."
   ]
  },
  {
   "cell_type": "markdown",
   "metadata": {},
   "source": [
    "### Optimization\n",
    "\n",
    "Solve the minimization problem \n",
    "\\begin{equation}\n",
    "\\mathop{\\mathsf{minimize}}_b \\frac{1}{n}\\|X*b - y\\|_2^2\n",
    "\\end{equation}\n",
    "\n",
    "using `scipy.optimize.minimize`.  Wrap this in a function `solve_lstsq_opt(X, y)`.  Note that you can define the objective function inside `solve_lstsq_opt`\n",
    "\n",
    "**Jacobian**: you should implement the Jacobian of the objective function to use in the optimization problem.  Here's a derivation:  We'd like to minimize the objective function\n",
    "\\begin{equation}\n",
    "n f(b) = \\|X*b - y\\|_2^2 = (Xb - y)^T (Xb - y) = b^T X^T X b - 2 y^T X b + y^T y\n",
    "\\end{equation}\n",
    "\n",
    "We might write the above expression as\n",
    "\\begin{equation}\n",
    "n f(b) \\sum_{i,j} b_i (X^T X)_{i,j} b_j - 2\\sum_{j,i} y_i X_{i,j} b_j + y^T y\n",
    "\\end{equation}\n",
    "\n",
    "We can take a derivative with respect to $b_j$\n",
    "\\begin{equation}\n",
    "n \\frac{\\partial f}{\\partial b_j} = \\sum_{i\\ne j} b_i (X^T X)_{i,j} + \\sum_{i\\ne j} (X^T X)_{j,i} b_i + 2 (X^T X)_{j,j} b_j  - 2\\sum_{i} y_i X_{i,j}\n",
    "\\end{equation}\n",
    "\n",
    "Putting this in matrix form, we obtain\n",
    "\\begin{equation}\n",
    "J_f(b) =  \\frac{1}{n}\\big( b^T (X^T X) + b^T (X^T X)^T - 2y^T X\\big) = \\frac{2}{n} b^T (X^T X) -\\frac{2}{n}y^T X\n",
    "\\end{equation}\n",
    "\n",
    "So we can write $J_f(b) = \\frac{2}{n} b^T (X^T X) -\\frac{2}{n} y^T X$"
   ]
  },
  {
   "cell_type": "code",
   "execution_count": 27,
   "metadata": {},
   "outputs": [],
   "source": [
    "import scipy.optimize as opt\n",
    "# Minimization using scipy.optimize.minimize\n",
    "\n",
    "# Note we define the objective function inside\n",
    "def solve_lstsq_opt(X, y):\n",
    "    n = X.shape[0]\n",
    "    p = X.shape[1]\n",
    "    def f(b):\n",
    "        return (1/n) * (la.norm((X @ b - y))**2)\n",
    "    # Jacobian of function\n",
    "    def Jf(b):\n",
    "        return (2/n) * (b.T @ (X.T @ X) - y.T @ X)\n",
    "    x0 = np.random.rand(p)\n",
    "    sol = opt.minimize(f, x0, jac=Jf)\n",
    "    return sol"
   ]
  },
  {
   "cell_type": "markdown",
   "metadata": {},
   "source": [
    "#### Check Your Work\n",
    "\n",
    "Generate a few random problems to test that `solve_lstsq_opt` agrees with `solve_lstsq_qr` and `solve_lstsq_normal` in part A.  Use the same tolerance for checking."
   ]
  },
  {
   "cell_type": "code",
   "execution_count": 28,
   "metadata": {},
   "outputs": [
    {
     "name": "stdout",
     "output_type": "stream",
     "text": [
      "False\n",
      "True\n"
     ]
    }
   ],
   "source": [
    "X, y, b = gen_lstsq(500, 300, sig=0.1)\n",
    "print(la.norm(solve_lstsq_normal(X, y) - solve_lstsq_opt(X, y).x) < 1e-4)\n",
    "print(la.norm(solve_lstsq_qr(X, y) - solve_lstsq_opt(X, y).x) < 1e-4)"
   ]
  },
  {
   "cell_type": "markdown",
   "metadata": {},
   "source": [
    "### Discussion 2\n",
    "\n",
    "How fast is `solve_lstsq_opt` compared to the functions you wrote in part A?  Give some justification for what you see."
   ]
  },
  {
   "cell_type": "code",
   "execution_count": 29,
   "metadata": {},
   "outputs": [
    {
     "name": "stdout",
     "output_type": "stream",
     "text": [
      "Time of computing using solve_lstsq_opt is: 0.2814328670501709 secs.\n"
     ]
    },
    {
     "data": {
      "text/plain": [
       "69"
      ]
     },
     "execution_count": 29,
     "metadata": {},
     "output_type": "execute_result"
    }
   ],
   "source": [
    "start = time()\n",
    "solve_lstsq_opt(X, y)\n",
    "end = time()\n",
    "print(\"Time of computing using solve_lstsq_opt is: \" + str(end-start) + \" secs.\")\n",
    "solve_lstsq_opt(X, y).nfev"
   ]
  },
  {
   "cell_type": "markdown",
   "metadata": {},
   "source": [
    "---\n",
    "\n",
    "We note that for the method solve_lstsq_opt, the nfev is around 70, which is quite large for our problem. Thus, it is quite predictable that it is slower than the methods using matrix factorizations."
   ]
  },
  {
   "cell_type": "markdown",
   "metadata": {},
   "source": [
    "### Scikit Learn\n",
    "\n",
    "Use [`sklearn.linear_model.LinearRegression`](https://scikit-learn.org/stable/modules/generated/sklearn.linear_model.LinearRegression.html#sklearn.linear_model.LinearRegression) to solve the linear regression problem. You can get the vector `bhat` from `model.coef_`\n",
    "\n",
    "Make a plot for the MSE like you did above using `LinearRegression` instead of a `solve_lstsq` function.  Set the keyword `fit_intercept=False`."
   ]
  },
  {
   "cell_type": "code",
   "execution_count": 11,
   "metadata": {},
   "outputs": [
    {
     "name": "stdout",
     "output_type": "stream",
     "text": [
      "[-1.8601089  -1.85539885 -0.31194604  0.68640967 -0.17175061  0.61873587\n",
      " -0.68503924  0.08929881  1.10357157 -1.07656978 -0.34687435  1.63843505\n",
      " -0.4824415   1.03794982 -0.33929223 -1.23490654 -0.16659202 -0.39746716\n",
      " -0.01213744 -0.22525901 -2.43869808 -0.6714586   0.94384879 -0.64368142\n",
      "  0.55239492 -0.84160427  0.15545793  1.51976533  0.31042539  0.3618946\n",
      "  1.36277723  0.0627806   1.75878845  2.00952162 -1.01442226 -0.60078533\n",
      " -0.43355581 -0.69074045  0.02770965 -0.34118466  2.73411824 -1.36837376\n",
      "  1.45844886 -0.96230181 -1.83541444  0.47583775  0.03341732  1.24711129\n",
      "  1.26884769 -0.07441748]\n"
     ]
    },
    {
     "data": {
      "image/png": "[encoded data removed]",
      "text/plain": [
       "<Figure size 432x288 with 1 Axes>"
      ]
     },
     "metadata": {
      "needs_background": "light"
     },
     "output_type": "display_data"
    }
   ],
   "source": [
    "X, y, b = gen_lstsq(100, 50, sig=0.1)\n",
    "from sklearn import linear_model\n",
    "from sklearn.linear_model import LinearRegression\n",
    "model = LinearRegression()\n",
    "model.fit(X, y)\n",
    "print(model.coef_)\n",
    "model2 = LinearRegression(fit_intercept=False)\n",
    "model2.fit(X, y)\n",
    "bhat = model2.coef_\n",
    "Sigs = [10**k for k in range(-4,2)]\n",
    "MSEs = []\n",
    "for n in Sigs:\n",
    "    MSEs.append(mse(b, bhat, N=100, p=50, sig=n))\n",
    "plt.loglog(Sigs, MSEs)\n",
    "plt.xlabel('Noise Parameter Sig')\n",
    "plt.ylabel('MSE')\n",
    "plt.title('sklearn LinearRegression: MSE vs. Sig')\n",
    "plt.show()"
   ]
  },
  {
   "cell_type": "markdown",
   "metadata": {},
   "source": [
    "## Problem 1 - Ridge Regression (15 points)\n",
    "\n",
    "We'll now turn to the problem of what to do when `n < p` (there are fewer observations than features).  In this case we can solve $X * b = y$ exactly, but there are many possible values of $b$ which can satisfy the equation.\n",
    "\n",
    "The normal equations are singular, and the $R$ term of the QR factorization is not invertible in this case.  We need to do something else.\n",
    "\n",
    "Ridge regression seeks to solve the following optimization problem:\n",
    "\n",
    "\\begin{equation}\n",
    "\\mathop{\\mathsf{minimize}}_b \\frac{1}{n}\\|X*b - y\\|_2^2 + \\lambda \\|b\\|_2^2\n",
    "\\end{equation}\n",
    "\n",
    "$\\lambda$ is a parameter you can choose to \"regularize\" the problem which you can choose.\n",
    "\n",
    "### Optimization\n",
    "\n",
    "Use `scipy.optimize.minimize` to minimize the above optimization problem.  Wrap this in a function `solve_ridge_opt(X, y, lam=0.1)` (`lam` should be provided as a keyword argument for the variable $\\lambda$).\n",
    "\n",
    "What is the Jacobian for the objective function for the minimization problem?  Incorporate this into your optimization problem.  Hint: differentiation is linear, so you just need to add a term to the Jacobian in Problem 0 based on the Jacobian of\n",
    "\\begin{equation}\n",
    "\\lambda \\|b\\|_2^2 = \\lambda b^T b = \\lambda \\sum_i b_i^2\n",
    "\\end{equation}\n",
    "\n",
    "---\n",
    "\n",
    "_put the expression for the Jacobian here_"
   ]
  },
  {
   "cell_type": "code",
   "execution_count": 12,
   "metadata": {},
   "outputs": [],
   "source": [
    "# Answer:\n",
    "# Let g = lambda * b.T @ b, note that dg/dbi = 2 * lambda * bi\n",
    "# Then the final expression is (2/n) * (b.T @ (X.T @ X) - y.T @ X) + 2 * lambda * b"
   ]
  },
  {
   "cell_type": "markdown",
   "metadata": {},
   "source": [
    "### Compute the MSE\n",
    "\n",
    "Set `n = 50`, `p=100`, and `sig=0.1`.  Make a plot that displays the MSE of `bhat` computed using `solve_ridge_opt` as `lam` varies between `1e-4` and `1e2`.  Use a `semilogx` plot."
   ]
  },
  {
   "cell_type": "code",
   "execution_count": 13,
   "metadata": {},
   "outputs": [
    {
     "data": {
      "image/png": "[encoded data removed]",
      "text/plain": [
       "<Figure size 432x288 with 1 Axes>"
      ]
     },
     "metadata": {
      "needs_background": "light"
     },
     "output_type": "display_data"
    }
   ],
   "source": [
    "def solve_ridge_opt(X, y, lam=0.1):\n",
    "    n = X.shape[0]\n",
    "    p = X.shape[1]\n",
    "    def f(b):\n",
    "        return (1/n) * (la.norm((X @ b - y))**2) + lam * (la.norm(b) ** 2)\n",
    "    # Jacobian of function\n",
    "    def Jf(b):\n",
    "        return (2/n) * (b.T @ (X.T @ X) - y.T @ X) + 2 * lam * b\n",
    "    \n",
    "    x0 = np.random.rand(p)\n",
    "    sol = opt.minimize(f, x0, jac=Jf)\n",
    "    return sol\n",
    "\n",
    "X, y, b = gen_lstsq(50, 100, sig=0.1)\n",
    "MSEs = []\n",
    "lams = [10**k for k in range(-4,3)]\n",
    "for l in lams:\n",
    "    bhat = solve_ridge_opt(X, y, lam = l).x\n",
    "    MSEs.append(mse(b, bhat, N=50, p=100, sig=0.1))\n",
    "plt.semilogx(lams, MSEs)\n",
    "plt.xlabel('Regularize Parameter Lambda')\n",
    "plt.ylabel('MSE')\n",
    "plt.title('Ridge Regression: MSE vs. Lambda')\n",
    "plt.show()"
   ]
  },
  {
   "cell_type": "markdown",
   "metadata": {},
   "source": [
    "### Scikit Learn\n",
    "\n",
    "Use [`sklearn.linear_model.Ridge`](https://scikit-learn.org/stable/modules/generated/sklearn.linear_model.Ridge.html) to solve the Ridge regression problem (note that this uses the keyword `alpha` where we have used `lam`). You can get the vector `bhat` from `model.coef_`\n",
    "\n",
    "Make a plot for the MSE like you did above using `Ridge` instead of your `solve_ridge_opt` function.  In addition to the keyword `alpha`, set `fit_intercept=False`"
   ]
  },
  {
   "cell_type": "code",
   "execution_count": 14,
   "metadata": {},
   "outputs": [
    {
     "data": {
      "image/png": "[encoded data removed]",
      "text/plain": [
       "<Figure size 432x288 with 1 Axes>"
      ]
     },
     "metadata": {
      "needs_background": "light"
     },
     "output_type": "display_data"
    }
   ],
   "source": [
    "X, y, b = gen_lstsq(50,100, sig=0.1)\n",
    "from sklearn.linear_model import Ridge\n",
    "lams = [10**k for k in range(-4,3)]\n",
    "MSEs = []\n",
    "for l in lams:\n",
    "    model3 = Ridge(alpha=l, fit_intercept=False)\n",
    "    model3.fit(X, y)\n",
    "    bhat = model3.coef_\n",
    "    MSEs.append(mse(b, bhat, N=50, p=100, sig=0.1))\n",
    "plt.loglog(lams, MSEs)\n",
    "plt.xlabel('Regularize Parameter Lambda')\n",
    "plt.ylabel('MSE')\n",
    "plt.title('MSE vs. Lambda')\n",
    "plt.show()"
   ]
  },
  {
   "cell_type": "markdown",
   "metadata": {},
   "source": [
    "## Problem 2 - Lasso (15 points)\n",
    "\n",
    "The Lasso is L1-regularized regression.  This is often used when `p > n`, and when the parameter vector `b` is assumed to be sparse, meaning that it has few non-zero entries.\n",
    "\n",
    "The minimization problem is\n",
    "\\begin{equation}\n",
    "\\mathop{\\mathsf{minimize}}_b \\frac{1}{n} \\|X * b - y\\|_2^2 + \\lambda \\|b\\|_1\n",
    "\\end{equation}\n",
    "\n",
    "Where again, $\\lambda$ can be chosen."
   ]
  },
  {
   "cell_type": "markdown",
   "metadata": {},
   "source": [
    "### Generate Data\n",
    "\n",
    "We need to modify our generation of data to produce sparse `b`.  Write a function `gen_lstsq_sparse(n, p, sig=0.1, k=10)`, which generates `X` and `y` in the same way as `gen_lstsq`, but now `b` is generated to be a vector of length `p` with `k` random entries set to 1, and all other entries set to 0. Hint: look at `np.random.choice` for generating `k` random integers without replacement."
   ]
  },
  {
   "cell_type": "code",
   "execution_count": 15,
   "metadata": {},
   "outputs": [],
   "source": [
    "# Generate X and y in the same way, but generate b in a different way\n",
    "def gen_lstsq_sparse(n, p, sig=0.1, k=10):\n",
    "    X = np.random.randn(n,p)\n",
    "    b = np.zeros(p)\n",
    "    b_nonzero_pos = np.random.choice(p, k)\n",
    "    for i in b_nonzero_pos:\n",
    "        b[i] = 1\n",
    "    y = np.dot(X, b) + sig * np.random.randn(n)\n",
    "    return X, y, b"
   ]
  },
  {
   "cell_type": "markdown",
   "metadata": {},
   "source": [
    "### Optimization\n",
    "\n",
    "Recall we want to find `bhat` to solve\n",
    "\\begin{equation}\n",
    "\\mathop{\\mathsf{minimize}}_b \\frac{1}{n} \\|X * b - y\\|_2^2 + \\lambda \\|b\\|_1\n",
    "\\end{equation}\n",
    "\n",
    "Use `scipy.optimize.minimize` to minimize the above optimization problem.  Wrap this in a function `solve_lasso_opt(X, y, lam=0.1)` (`lam` should be provided as a keyword argument for the variable $\\lambda$).\n",
    "\n",
    "What is the Jacobian for the objective function for the minimization problem?  Incorporate this into your optimization problem.  Hint: differentiation is linear, so you just need to add a term to the Jacobian in Problem 0 based on the Jacobian of\n",
    "\\begin{equation}\n",
    "\\lambda \\|b\\|_1 = \\lambda \\sum_i |b_i|\n",
    "\\end{equation}\n",
    "\n",
    "If $b_i$ is zero, then take $\\partial_i |b_i| = 0$ (this is in the [subgradient](https://en.wikipedia.org/wiki/Subderivative)). Hint 2: look at `np.sign` for implementation\n",
    "\n",
    "---\n",
    "\n",
    "_put the expression for the Jacobian here_"
   ]
  },
  {
   "cell_type": "code",
   "execution_count": 16,
   "metadata": {},
   "outputs": [],
   "source": [
    "def solve_lasso_opt(X, y, lam=0.1):\n",
    "    n = X.shape[0]\n",
    "    p = X.shape[1]\n",
    "    def f(b):\n",
    "        return (1/n) * (la.norm((X @ b - y))**2) + lam * la.norm(b,1)\n",
    "    # Jacobian of function\n",
    "    def Jf(b):\n",
    "        return (2/n) * (b.T @ (X.T @ X) - y.T @ X) + lam * np.sign(b)\n",
    "    \n",
    "    x0 = np.random.rand(p)\n",
    "    sol = opt.minimize(f, x0, jac=Jf)\n",
    "    return sol"
   ]
  },
  {
   "cell_type": "markdown",
   "metadata": {},
   "source": [
    "### Compute the MSE\n",
    "\n",
    "Set `n = 50`, `p=100`,`sig=0.1`, and `k=10` to generate a problem using `gen_lstsq_sparse`.  Make a plot that displays the MSE of `bhat` computed using `solve_lasso_opt` as `lam` varies between `1e-4` and `1e2`.  Use a `semilogx` plot."
   ]
  },
  {
   "cell_type": "code",
   "execution_count": 17,
   "metadata": {},
   "outputs": [
    {
     "data": {
      "image/png": "[encoded data removed]",
      "text/plain": [
       "<Figure size 432x288 with 1 Axes>"
      ]
     },
     "metadata": {
      "needs_background": "light"
     },
     "output_type": "display_data"
    }
   ],
   "source": [
    "X, y, b = gen_lstsq_sparse(n = 50, p = 100, sig=0.1, k=10)\n",
    "MSEs = []\n",
    "lams = [10**k for k in range(-4,3)]\n",
    "for l in lams:\n",
    "    bhat = solve_lasso_opt(X, y, lam = l).x\n",
    "    MSEs.append(mse(b, bhat, N=50, p=100, sig=0.1))\n",
    "plt.semilogx(lams, MSEs)\n",
    "plt.xlabel('Regularize Parameter Lambda')\n",
    "plt.ylabel('MSE')\n",
    "plt.title('Lasso: MSE vs. Lambda')\n",
    "plt.show()"
   ]
  },
  {
   "cell_type": "markdown",
   "metadata": {},
   "source": [
    "### Scikit Learn\n",
    "\n",
    "Use [`sklearn.linear_model.Lasso`](https://scikit-learn.org/stable/modules/generated/sklearn.linear_model.Lasso.html#sklearn.linear_model.Lasso) to solve the Lasso regression problem (note that this uses the keyword `alpha` where we have used `lam`). You can get the vector `bhat` from `model.coef_`\n",
    "\n",
    "Make a plot for the MSE like you did above using `Lasso` instead of your `solve_lasso_opt` function.  In addition to the keyword `alpha`, set `fit_intercept=False`"
   ]
  },
  {
   "cell_type": "code",
   "execution_count": 18,
   "metadata": {},
   "outputs": [
    {
     "name": "stderr",
     "output_type": "stream",
     "text": [
      "/Users/josh/anaconda3/envs/pycourse/lib/python3.8/site-packages/sklearn/linear_model/_coordinate_descent.py:529: ConvergenceWarning: Objective did not converge. You might want to increase the number of iterations. Duality gap: 0.060983283933759624, tolerance: 0.04523021242272464\n",
      "  model = cd_fast.enet_coordinate_descent(\n"
     ]
    },
    {
     "data": {
      "image/png": "[encoded data removed]",
      "text/plain": [
       "<Figure size 432x288 with 1 Axes>"
      ]
     },
     "metadata": {
      "needs_background": "light"
     },
     "output_type": "display_data"
    }
   ],
   "source": [
    "X, y, b = gen_lstsq_sparse(n = 50, p = 100, sig=0.1, k=10)\n",
    "from sklearn.linear_model import Lasso\n",
    "lams = [10**k for k in range(-4,3)]\n",
    "MSEs = []\n",
    "for l in lams:\n",
    "    model4 = Lasso(alpha=l, fit_intercept=False)\n",
    "    model4.fit(X, y)\n",
    "    bhat = model4.coef_\n",
    "    MSEs.append(mse(b, bhat, N=50, p=100, sig=0.1))\n",
    "plt.loglog(lams, MSEs)\n",
    "plt.xlabel('Regularize Parameter Lambda')\n",
    "plt.ylabel('MSE')\n",
    "plt.title('sklearn Lasso: MSE vs. Lambda')\n",
    "plt.show()"
   ]
  },
  {
   "cell_type": "markdown",
   "metadata": {},
   "source": [
    "## Problem 3 - Elastic Net (20 points)\n",
    "\n",
    "Another option when `p > n` is the [Elastic Net]() which combines L1 and L2 regularization.\n",
    "\n",
    "\\begin{equation}\n",
    "\\mathop{\\mathsf{minimize}}_b \\frac{1}{n} \\|X * b - y\\|_2^2 + \\lambda_1 \\|b\\|_1 + \\lambda_2 \\|b\\|_2^2\n",
    "\\end{equation}\n",
    "Where we get to choose $\\lambda_1$ and $\\lambda_2$.\n",
    "\n",
    "You can find a function that does this in [`sklearn.linear_model.ElasticNet`](https://scikit-learn.org/stable/modules/generated/sklearn.linear_model.ElasticNet.html#sklearn.linear_model.ElasticNet).\n",
    "\n",
    "In this problem, you'll write a class that emulates the behavior of a Scikit learn class. Use `scipy.optimize.minimize` to solve the optimization problem.\n"
   ]
  },
  {
   "cell_type": "markdown",
   "metadata": {},
   "source": [
    "### Jacobian\n",
    "\n",
    "Give an expression for the Jacobian for the optimization objective function.  You've already done all the hard work for this in problems 1 and 2\n",
    "\n",
    "---\n",
    "\n",
    "_put the Jacobian expression here_"
   ]
  },
  {
   "cell_type": "markdown",
   "metadata": {},
   "source": [
    "### Write the Class\n",
    "\n",
    "Define a Python Class `ElasticNet`.  When you initialize the class you should be able to provide keyword arguments `lam1` for $\\lambda_1$ and `lam2` for $\\lambda_2$.  Give each these keyword arguments a default value of `0.5`.\n",
    "\n",
    "In addition to `__init__`, your class should provide two methods:\n",
    "1. `fit(X, y)` - sets an attribute `bhat` which solves the optimization problem (use the parameters `lam1` and `lam2` provided in initialization).  Use `scipy.optimize.minimize`\n",
    "2. `predict(X)` - predict values of `y` as `X @ bhat`"
   ]
  },
  {
   "cell_type": "code",
   "execution_count": 19,
   "metadata": {},
   "outputs": [],
   "source": [
    "class ElasticNet(object):\n",
    "    def __init__(self, lam1 = 0.5, lam2 = 0.5):\n",
    "        self.lam1 = lam1\n",
    "        self.lam2 = lam2\n",
    "    def fit(self, X, y):\n",
    "        self.X = X\n",
    "        n = self.X.shape[0]\n",
    "        p = self.X.shape[1]\n",
    "        x0 = np.random.rand(p)\n",
    "        f = lambda b: (1/n) * (la.norm((X @ b - y))**2) + self.lam1 * la.norm(b,1) + self.lam2 * (la.norm(b) ** 2)\n",
    "        self.bhat = opt.minimize(f, x0).x\n",
    "    def predict(X):\n",
    "        self.y = X @ self.bhat"
   ]
  },
  {
   "cell_type": "markdown",
   "metadata": {},
   "source": [
    "### Compute the MSE\n",
    "\n",
    "Set `n=50`, `p=100`,`sig=0.1`, and `k=10` to generate a problem using `gen_lstsq_sparse`.  \n",
    "\n",
    "Set `n=50`, `p=100`, and `sig=0.1` to generate a problem using `gen_lstsq`.\n",
    "\n",
    "Make a plot that displays the MSE of the model computed using your `ElasticNet` class using `lam1=lam2` varying between `1e-4` and `1e2` for each of the generated problems (your plot should have 2 lines).  Give your plot a title, axis labels, and a legend."
   ]
  },
  {
   "cell_type": "code",
   "execution_count": 20,
   "metadata": {},
   "outputs": [
    {
     "data": {
      "image/png": "[encoded data removed]",
      "text/plain": [
       "<Figure size 432x288 with 1 Axes>"
      ]
     },
     "metadata": {
      "needs_background": "light"
     },
     "output_type": "display_data"
    }
   ],
   "source": [
    "# Generate problem 1\n",
    "X, y, b = gen_lstsq_sparse(n = 50, p = 100, sig=0.1, k=10)\n",
    "lams = [10**k for k in range(-4,3)]\n",
    "MSEs_1 = []\n",
    "MSEs_2 = []\n",
    "for l in lams:\n",
    "    model_1 = ElasticNet(lam1 = l, lam2 = l)\n",
    "    model_1.fit(X, y)\n",
    "    bhat = model_1.bhat\n",
    "    MSEs_1.append(mse(b, bhat, N=50, p=100, sig=0.1))\n",
    "plt.loglog(lams, MSEs_1, c = 'b')\n",
    "X, y, b = gen_lstsq(n = 50, p = 100, sig=0.1)\n",
    "for l in lams:\n",
    "    model_2 = ElasticNet(lam1 = l, lam2 = l)\n",
    "    model_2.fit(X, y)\n",
    "    bhat = model_2.bhat\n",
    "    MSEs_2.append(mse(b, bhat, N=50, p=100, sig=0.1))\n",
    "plt.loglog(lams, MSEs_2, c = 'r')\n",
    "plt.xlabel('Regularize Parameter Lambda')\n",
    "plt.ylabel('MSE')\n",
    "plt.title('Elastic net: MSE vs. Lambda')\n",
    "plt.show()"
   ]
  },
  {
   "cell_type": "markdown",
   "metadata": {},
   "source": [
    "## Problem 4 - Real Data (20 points)\n",
    "\n",
    "In this problem you'll use the [Wine Quality Data Set](https://archive.ics.uci.edu/ml/machine-learning-databases/wine-quality/).  We'll focus on the red wines found in [`winequality-red.csv`](https://archive.ics.uci.edu/ml/machine-learning-databases/wine-quality/winequality-red.csv).  The goal is to train a machine learning model that will predict the wine quality from a variety of other features."
   ]
  },
  {
   "cell_type": "markdown",
   "metadata": {},
   "source": [
    "### Load the data set\n",
    "\n",
    "Load the wines in `windquality-red.csv` into a Pandas data frame. Note that this file has column labels, which are interpreted in the data set documentation:\n",
    "\n",
    "Input variables (based on physicochemical tests):\n",
    "1. fixed acidity\n",
    "2. volatile acidity\n",
    "3. citric acid\n",
    "4. residual sugar\n",
    "5. chlorides\n",
    "6. free sulfur dioxide\n",
    "7. total sulfur dioxide\n",
    "8. density\n",
    "9. pH\n",
    "10. sulphates\n",
    "11. alcohol\n",
    "\n",
    "Output variable (based on sensory data):\n",
    "\n",
    "12. quality (score between 0 and 10)\n",
    "\n",
    "Note that this file uses semi-colons `;` to delimit values.  You can use `delimiter=';'` as a keyword argument."
   ]
  },
  {
   "cell_type": "code",
   "execution_count": 21,
   "metadata": {},
   "outputs": [
    {
     "data": {
      "text/html": [
       "<div>\n",
       "<style scoped>\n",
       "    .dataframe tbody tr th:only-of-type {\n",
       "        vertical-align: middle;\n",
       "    }\n",
       "\n",
       "    .dataframe tbody tr th {\n",
       "        vertical-align: top;\n",
       "    }\n",
       "\n",
       "    .dataframe thead th {\n",
       "        text-align: right;\n",
       "    }\n",
       "</style>\n",
       "<table border=\"1\" class=\"dataframe\">\n",
       "  <thead>\n",
       "    <tr style=\"text-align: right;\">\n",
       "      <th></th>\n",
       "      <th>fixed acidity</th>\n",
       "      <th>volatile acidity</th>\n",
       "      <th>citric acid</th>\n",
       "      <th>residual sugar</th>\n",
       "      <th>chlorides</th>\n",
       "      <th>free sulfur dioxide</th>\n",
       "      <th>total sulfur dioxide</th>\n",
       "      <th>density</th>\n",
       "      <th>pH</th>\n",
       "      <th>sulphates</th>\n",
       "      <th>alcohol</th>\n",
       "      <th>quality</th>\n",
       "    </tr>\n",
       "  </thead>\n",
       "  <tbody>\n",
       "    <tr>\n",
       "      <th>1</th>\n",
       "      <td>7.4</td>\n",
       "      <td>0.7</td>\n",
       "      <td>0</td>\n",
       "      <td>1.9</td>\n",
       "      <td>0.076</td>\n",
       "      <td>11</td>\n",
       "      <td>34</td>\n",
       "      <td>0.9978</td>\n",
       "      <td>3.51</td>\n",
       "      <td>0.56</td>\n",
       "      <td>9.4</td>\n",
       "      <td>5</td>\n",
       "    </tr>\n",
       "    <tr>\n",
       "      <th>2</th>\n",
       "      <td>7.8</td>\n",
       "      <td>0.88</td>\n",
       "      <td>0</td>\n",
       "      <td>2.6</td>\n",
       "      <td>0.098</td>\n",
       "      <td>25</td>\n",
       "      <td>67</td>\n",
       "      <td>0.9968</td>\n",
       "      <td>3.2</td>\n",
       "      <td>0.68</td>\n",
       "      <td>9.8</td>\n",
       "      <td>5</td>\n",
       "    </tr>\n",
       "    <tr>\n",
       "      <th>3</th>\n",
       "      <td>7.8</td>\n",
       "      <td>0.76</td>\n",
       "      <td>0.04</td>\n",
       "      <td>2.3</td>\n",
       "      <td>0.092</td>\n",
       "      <td>15</td>\n",
       "      <td>54</td>\n",
       "      <td>0.997</td>\n",
       "      <td>3.26</td>\n",
       "      <td>0.65</td>\n",
       "      <td>9.8</td>\n",
       "      <td>5</td>\n",
       "    </tr>\n",
       "    <tr>\n",
       "      <th>4</th>\n",
       "      <td>11.2</td>\n",
       "      <td>0.28</td>\n",
       "      <td>0.56</td>\n",
       "      <td>1.9</td>\n",
       "      <td>0.075</td>\n",
       "      <td>17</td>\n",
       "      <td>60</td>\n",
       "      <td>0.998</td>\n",
       "      <td>3.16</td>\n",
       "      <td>0.58</td>\n",
       "      <td>9.8</td>\n",
       "      <td>6</td>\n",
       "    </tr>\n",
       "    <tr>\n",
       "      <th>5</th>\n",
       "      <td>7.4</td>\n",
       "      <td>0.7</td>\n",
       "      <td>0</td>\n",
       "      <td>1.9</td>\n",
       "      <td>0.076</td>\n",
       "      <td>11</td>\n",
       "      <td>34</td>\n",
       "      <td>0.9978</td>\n",
       "      <td>3.51</td>\n",
       "      <td>0.56</td>\n",
       "      <td>9.4</td>\n",
       "      <td>5</td>\n",
       "    </tr>\n",
       "    <tr>\n",
       "      <th>...</th>\n",
       "      <td>...</td>\n",
       "      <td>...</td>\n",
       "      <td>...</td>\n",
       "      <td>...</td>\n",
       "      <td>...</td>\n",
       "      <td>...</td>\n",
       "      <td>...</td>\n",
       "      <td>...</td>\n",
       "      <td>...</td>\n",
       "      <td>...</td>\n",
       "      <td>...</td>\n",
       "      <td>...</td>\n",
       "    </tr>\n",
       "    <tr>\n",
       "      <th>1595</th>\n",
       "      <td>6.2</td>\n",
       "      <td>0.6</td>\n",
       "      <td>0.08</td>\n",
       "      <td>2</td>\n",
       "      <td>0.09</td>\n",
       "      <td>32</td>\n",
       "      <td>44</td>\n",
       "      <td>0.9949</td>\n",
       "      <td>3.45</td>\n",
       "      <td>0.58</td>\n",
       "      <td>10.5</td>\n",
       "      <td>5</td>\n",
       "    </tr>\n",
       "    <tr>\n",
       "      <th>1596</th>\n",
       "      <td>5.9</td>\n",
       "      <td>0.55</td>\n",
       "      <td>0.1</td>\n",
       "      <td>2.2</td>\n",
       "      <td>0.062</td>\n",
       "      <td>39</td>\n",
       "      <td>51</td>\n",
       "      <td>0.99512</td>\n",
       "      <td>3.52</td>\n",
       "      <td>0.76</td>\n",
       "      <td>11.2</td>\n",
       "      <td>6</td>\n",
       "    </tr>\n",
       "    <tr>\n",
       "      <th>1597</th>\n",
       "      <td>6.3</td>\n",
       "      <td>0.51</td>\n",
       "      <td>0.13</td>\n",
       "      <td>2.3</td>\n",
       "      <td>0.076</td>\n",
       "      <td>29</td>\n",
       "      <td>40</td>\n",
       "      <td>0.99574</td>\n",
       "      <td>3.42</td>\n",
       "      <td>0.75</td>\n",
       "      <td>11</td>\n",
       "      <td>6</td>\n",
       "    </tr>\n",
       "    <tr>\n",
       "      <th>1598</th>\n",
       "      <td>5.9</td>\n",
       "      <td>0.645</td>\n",
       "      <td>0.12</td>\n",
       "      <td>2</td>\n",
       "      <td>0.075</td>\n",
       "      <td>32</td>\n",
       "      <td>44</td>\n",
       "      <td>0.99547</td>\n",
       "      <td>3.57</td>\n",
       "      <td>0.71</td>\n",
       "      <td>10.2</td>\n",
       "      <td>5</td>\n",
       "    </tr>\n",
       "    <tr>\n",
       "      <th>1599</th>\n",
       "      <td>6</td>\n",
       "      <td>0.31</td>\n",
       "      <td>0.47</td>\n",
       "      <td>3.6</td>\n",
       "      <td>0.067</td>\n",
       "      <td>18</td>\n",
       "      <td>42</td>\n",
       "      <td>0.99549</td>\n",
       "      <td>3.39</td>\n",
       "      <td>0.66</td>\n",
       "      <td>11</td>\n",
       "      <td>6</td>\n",
       "    </tr>\n",
       "  </tbody>\n",
       "</table>\n",
       "<p>1599 rows × 12 columns</p>\n",
       "</div>"
      ],
      "text/plain": [
       "0    fixed acidity volatile acidity citric acid residual sugar chlorides  \\\n",
       "1              7.4              0.7           0            1.9     0.076   \n",
       "2              7.8             0.88           0            2.6     0.098   \n",
       "3              7.8             0.76        0.04            2.3     0.092   \n",
       "4             11.2             0.28        0.56            1.9     0.075   \n",
       "5              7.4              0.7           0            1.9     0.076   \n",
       "...            ...              ...         ...            ...       ...   \n",
       "1595           6.2              0.6        0.08              2      0.09   \n",
       "1596           5.9             0.55         0.1            2.2     0.062   \n",
       "1597           6.3             0.51        0.13            2.3     0.076   \n",
       "1598           5.9            0.645        0.12              2     0.075   \n",
       "1599             6             0.31        0.47            3.6     0.067   \n",
       "\n",
       "0    free sulfur dioxide total sulfur dioxide  density    pH sulphates  \\\n",
       "1                     11                   34   0.9978  3.51      0.56   \n",
       "2                     25                   67   0.9968   3.2      0.68   \n",
       "3                     15                   54    0.997  3.26      0.65   \n",
       "4                     17                   60    0.998  3.16      0.58   \n",
       "5                     11                   34   0.9978  3.51      0.56   \n",
       "...                  ...                  ...      ...   ...       ...   \n",
       "1595                  32                   44   0.9949  3.45      0.58   \n",
       "1596                  39                   51  0.99512  3.52      0.76   \n",
       "1597                  29                   40  0.99574  3.42      0.75   \n",
       "1598                  32                   44  0.99547  3.57      0.71   \n",
       "1599                  18                   42  0.99549  3.39      0.66   \n",
       "\n",
       "0    alcohol quality  \n",
       "1        9.4       5  \n",
       "2        9.8       5  \n",
       "3        9.8       5  \n",
       "4        9.8       6  \n",
       "5        9.4       5  \n",
       "...      ...     ...  \n",
       "1595    10.5       5  \n",
       "1596    11.2       6  \n",
       "1597      11       6  \n",
       "1598    10.2       5  \n",
       "1599      11       6  \n",
       "\n",
       "[1599 rows x 12 columns]"
      ]
     },
     "execution_count": 21,
     "metadata": {},
     "output_type": "execute_result"
    }
   ],
   "source": [
    "# Here we load the data into a Pandas data frame\n",
    "df = pd.read_csv('https://archive.ics.uci.edu/ml/machine-learning-databases/wine-quality/winequality-red.csv', \n",
    "                 delimiter = ';', names = ['fixed acidity', 'volatile acidity', 'citric acid','residual sugar', \n",
    "                                           'chlorides', 'free sulfur dioxide', 'total sulfur dioxide', 'density',\n",
    "                                           'pH', 'sulphates', 'alcohol', 'quality'])\n",
    "new_header = df.iloc[0]\n",
    "df = df[1:]\n",
    "df.columns = new_header\n",
    "df"
   ]
  },
  {
   "cell_type": "markdown",
   "metadata": {},
   "source": [
    "The first 11 columns will be features for the model (used in the design matrix `X`), and the last column (quality) is the quantity we're tyring to predict (the response `y`).\n",
    "\n",
    "### Split the Data in to Training and Testing Sets\n",
    "\n",
    "Split the data `X, y` into `X_train, y_train, X_test, y_test` using `sklearn`.  Use 70% of the data for training, and 30% of the data for testing.\n"
   ]
  },
  {
   "cell_type": "code",
   "execution_count": 22,
   "metadata": {},
   "outputs": [
    {
     "name": "stdout",
     "output_type": "stream",
     "text": [
      "(1119, 11) (1119,)\n",
      "(480, 11) (480,)\n"
     ]
    }
   ],
   "source": [
    "from sklearn.model_selection import train_test_split\n",
    "X = df[['fixed acidity', 'volatile acidity', 'citric acid','residual sugar', \n",
    "                                           'chlorides', 'free sulfur dioxide', 'total sulfur dioxide', 'density',\n",
    "                                           'pH', 'sulphates', 'alcohol']].to_numpy()\n",
    "X = X.astype(np.float)\n",
    "y = df['quality'].to_numpy()\n",
    "y = y.astype(np.float)\n",
    "X_train, X_test, y_train, y_test = train_test_split(X, y, test_size=0.3, random_state=0)\n",
    "print(X_train.shape, y_train.shape)\n",
    "print(X_test.shape, y_test.shape)"
   ]
  },
  {
   "cell_type": "markdown",
   "metadata": {},
   "source": [
    "### Train a Model and Measure Error\n",
    "\n",
    "Use [`sklearn.linear_model.LinearRegression`](https://scikit-learn.org/stable/modules/generated/sklearn.linear_model.LinearRegression.html#sklearn.linear_model.LinearRegression) to fit a linear regression model to your training data.\n",
    "\n",
    "Use [`sklearn.metrics.mean_squared_error`](https://scikit-learn.org/stable/modules/generated/sklearn.metrics.mean_squared_error.html#sklearn.metrics.mean_squared_error) to compute the MSE on your test set."
   ]
  },
  {
   "cell_type": "code",
   "execution_count": 23,
   "metadata": {},
   "outputs": [
    {
     "name": "stdout",
     "output_type": "stream",
     "text": [
      "MSE for the test set is: 0.4007803663750104\n"
     ]
    }
   ],
   "source": [
    "from sklearn.metrics import mean_squared_error\n",
    "model = linear_model.LinearRegression()\n",
    "model.fit(X_train, y_train)\n",
    "MSE = mean_squared_error(y_test, model.predict(X_test))\n",
    "print(\"MSE for the test set is: \" + str(MSE))"
   ]
  },
  {
   "cell_type": "markdown",
   "metadata": {},
   "source": [
    "### Try Some Different Models\n",
    "\n",
    "Note: you don't need to know anything about these models.  You can just use the `fit` and `predict` methods, and the default parameters.\n",
    "\n",
    "Use the following `sklearn` classes to fit models and make predictions:\n",
    "* [`sklearn.ensemble.RandomForestRegressor`](https://scikit-learn.org/stable/modules/generated/sklearn.ensemble.RandomForestRegressor.html#sklearn.ensemble.RandomForestRegressor)\n",
    "* [`sklearn.neural_network.MLPRegressor`](https://scikit-learn.org/stable/modules/generated/sklearn.neural_network.MLPRegressor.html#sklearn.neural_network.MLPRegressor)\n",
    "* [`sklearn.neighbors.KNeighborsRegressor`](https://scikit-learn.org/stable/modules/generated/sklearn.neighbors.KNeighborsRegressor.html#sklearn.neighbors.KNeighborsRegressor)\n",
    "\n",
    "Which model gives the best MSE on the test data?"
   ]
  },
  {
   "cell_type": "code",
   "execution_count": 24,
   "metadata": {},
   "outputs": [
    {
     "name": "stdout",
     "output_type": "stream",
     "text": [
      "MSE for Random Forest Model: 0.3496810416666667\n",
      "MSE for MLP Regressor: 0.47982382268988766\n",
      "MSE for KNeighbors Regressor: 0.5365\n"
     ]
    }
   ],
   "source": [
    "from sklearn.ensemble import RandomForestRegressor\n",
    "from sklearn.neural_network import MLPRegressor\n",
    "from sklearn.neighbors import KNeighborsRegressor\n",
    "model1 = RandomForestRegressor()\n",
    "model1.fit(X_train, y_train)\n",
    "MSE1 = mean_squared_error(y_test, model1.predict(X_test))\n",
    "print(\"MSE for Random Forest Model: \" + str(MSE1))\n",
    "model2 = MLPRegressor()\n",
    "model2.fit(X_train, y_train)\n",
    "MSE2 = mean_squared_error(y_test, model2.predict(X_test))\n",
    "print(\"MSE for MLP Regressor: \" + str(MSE2))\n",
    "model3 = KNeighborsRegressor()\n",
    "model3.fit(X_train, y_train)\n",
    "MSE3 = mean_squared_error(y_test, model3.predict(X_test))\n",
    "print(\"MSE for KNeighbors Regressor: \" + str(MSE3))"
   ]
  },
  {
   "cell_type": "code",
   "execution_count": null,
   "metadata": {},
   "outputs": [],
   "source": []
  }
 ],
 "metadata": {
  "kernelspec": {
   "display_name": "Python (pycourse)",
   "language": "python",
   "name": "pycourse"
  },
  "language_info": {
   "codemirror_mode": {
    "name": "ipython",
    "version": 3
   },
   "file_extension": ".py",
   "mimetype": "text/x-python",
   "name": "python",
   "nbconvert_exporter": "python",
   "pygments_lexer": "ipython3",
   "version": "3.8.5"
  }
 },
 "nbformat": 4,
 "nbformat_minor": 4
}
